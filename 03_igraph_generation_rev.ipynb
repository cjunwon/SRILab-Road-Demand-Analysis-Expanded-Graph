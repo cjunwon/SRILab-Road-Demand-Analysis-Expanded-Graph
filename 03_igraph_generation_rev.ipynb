{
 "cells": [
  {
   "cell_type": "code",
   "execution_count": 3,
   "metadata": {},
   "outputs": [],
   "source": [
    "import pickle\n",
    "import numpy as np\n",
    "import pandas as pd\n",
    "import time\n",
    "from collections import defaultdict\n",
    "import random\n",
    "import igraph as ig\n",
    "\n",
    "# print(\"Importing nodes_edges_ucla_access.pickle...\")\n",
    "# with open(r'nodes_edges_ucla_access.pickle', 'rb') as handle:\n",
    "with open(r'nodes_edges_ucla_big_graph.pickle', 'rb') as handle:\n",
    "    B_matrix_sliced,B_matrix_str_sliced,nodes_coordinates_array = pickle.load(handle)\n"
   ]
  },
  {
   "cell_type": "code",
   "execution_count": 4,
   "metadata": {},
   "outputs": [
    {
     "data": {
      "text/plain": [
       "array([[5.36550000e+04, 5.37970000e+04, 1.70604154e+02, 1.50000000e+01,\n",
       "        4.24033177e-01, 2.05547173e+00],\n",
       "       [5.23000000e+04, 5.16470000e+04, 2.89900957e+02, 1.50000000e+01,\n",
       "        7.20542972e-01, 3.49278261e+00],\n",
       "       [5.34940000e+04, 5.37680000e+04, 5.95912442e+01, 1.50000000e+01,\n",
       "        1.48112834e-01, 7.17966798e-01],\n",
       "       ...,\n",
       "       [1.59967000e+05, 1.80084000e+05, 2.71292222e+02, 2.50000000e+01,\n",
       "        4.04574802e-01, 3.26858099e+00],\n",
       "       [1.80085000e+05, 1.59883000e+05, 7.89142465e+01, 2.50000000e+01,\n",
       "        1.17683859e-01, 9.50774054e-01],\n",
       "       [1.60224000e+05, 1.80086000e+05, 2.27216150e+02, 2.50000000e+01,\n",
       "        3.38844690e-01, 2.73754397e+00]])"
      ]
     },
     "execution_count": 4,
     "metadata": {},
     "output_type": "execute_result"
    }
   ],
   "source": [
    "B_matrix_sliced"
   ]
  },
  {
   "cell_type": "code",
   "execution_count": null,
   "metadata": {},
   "outputs": [],
   "source": [
    "# convert all values in B_matrix_sliced from float to int\n",
    "B_matrix_sliced = B_matrix_sliced.astype(int)"
   ]
  }
 ],
 "metadata": {
  "kernelspec": {
   "display_name": "base",
   "language": "python",
   "name": "python3"
  },
  "language_info": {
   "codemirror_mode": {
    "name": "ipython",
    "version": 3
   },
   "file_extension": ".py",
   "mimetype": "text/x-python",
   "name": "python",
   "nbconvert_exporter": "python",
   "pygments_lexer": "ipython3",
   "version": "3.9.7"
  }
 },
 "nbformat": 4,
 "nbformat_minor": 2
}
