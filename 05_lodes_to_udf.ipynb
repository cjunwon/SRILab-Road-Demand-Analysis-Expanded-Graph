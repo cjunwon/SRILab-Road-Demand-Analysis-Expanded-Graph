{
 "cells": [
  {
   "cell_type": "code",
   "execution_count": 1,
   "metadata": {},
   "outputs": [],
   "source": [
    "import pickle\n",
    "import numpy as np\n",
    "import geopandas as gpd\n",
    "import numpy as np\n",
    "import pickle\n",
    "import boto3"
   ]
  },
  {
   "cell_type": "code",
   "execution_count": 2,
   "metadata": {},
   "outputs": [
    {
     "name": "stdout",
     "output_type": "stream",
     "text": [
      "Importing B_matrix_weighted_array_0_to_141592.pickle...\n"
     ]
    }
   ],
   "source": [
    "print('Importing B_matrix_weighted_array_0_to_141592.pickle...')\n",
    "with open(r'intermediate_files/B_matrix_weighted_array_0_to_141592.pickle', 'rb') as handle:\n",
    "    B_matrix_weighted_array = pickle.load(handle) "
   ]
  },
  {
   "cell_type": "code",
   "execution_count": 2,
   "metadata": {},
   "outputs": [
    {
     "name": "stdout",
     "output_type": "stream",
     "text": [
      "Importing nodes_edges_ucla_access.pickle...\n"
     ]
    }
   ],
   "source": [
    "# print('Importing nodes_edges_ucla_big_graph.pickle...')\n",
    "# with open(r'nodes_edges_ucla_big_graph.pickle', 'rb') as handle:\n",
    "#     B_matrix_sliced,B_matrix_str_sliced,nodes_coordinates_array = pickle.load(handle)\n",
    "\n",
    "print('Importing nodes_edges_ucla_access.pickle...')\n",
    "with open(r'nodes_edges_ucla_access.pickle', 'rb') as handle:\n",
    "    B_matrix_sliced,B_matrix_str_sliced,nodes_coordinates_array = pickle.load(handle)"
   ]
  },
  {
   "cell_type": "code",
   "execution_count": 3,
   "metadata": {},
   "outputs": [
    {
     "name": "stdout",
     "output_type": "stream",
     "text": [
      "Importing uclaaccess_roi_widths_short.geojson...\n"
     ]
    }
   ],
   "source": [
    "# print('Importing ucla_large_centrality_roi.geojson...')\n",
    "# udf = gpd.read_file('ucla_large_centrality_roi.geojson')\n",
    "\n",
    "print('Importing uclaaccess_roi_widths_short.geojson...')\n",
    "udf = gpd.read_file('uclaaccess_roi_widths_short.geojson')"
   ]
  },
  {
   "cell_type": "code",
   "execution_count": 4,
   "metadata": {},
   "outputs": [
    {
     "data": {
      "text/plain": [
       "267887"
      ]
     },
     "execution_count": 4,
     "metadata": {},
     "output_type": "execute_result"
    }
   ],
   "source": [
    "len(udf)"
   ]
  },
  {
   "cell_type": "code",
   "execution_count": 6,
   "metadata": {},
   "outputs": [
    {
     "data": {
      "text/plain": [
       "(267889, 7)"
      ]
     },
     "execution_count": 6,
     "metadata": {},
     "output_type": "execute_result"
    }
   ],
   "source": [
    "B_matrix_sliced.shape"
   ]
  },
  {
   "cell_type": "code",
   "execution_count": 6,
   "metadata": {},
   "outputs": [
    {
     "name": "stdout",
     "output_type": "stream",
     "text": [
      "Percent of B_matrix updated from script 04_combined_shortest_path_usage.py:  93.58 %\n"
     ]
    }
   ],
   "source": [
    "count=0\n",
    "\n",
    "for i in range(B_matrix_weighted_array.shape[0]):\n",
    "    if np.count_nonzero(B_matrix_weighted_array[i,6:])==0:\n",
    "        count+=1\n",
    "\n",
    "percent_updated_B_matrix = (1 - (count / B_matrix_weighted_array.shape[0]))*100\n",
    "\n",
    "print('Percent of B_matrix updated from script 04_combined_shortest_path_usage.py: ', round(percent_updated_B_matrix, 2), '%')"
   ]
  },
  {
   "cell_type": "code",
   "execution_count": 7,
   "metadata": {},
   "outputs": [],
   "source": [
    "oids = np.array(udf['ObjectID']).astype(int)\n",
    "allocated_B_matrix=np.zeros((len(oids),10))"
   ]
  },
  {
   "cell_type": "code",
   "execution_count": 8,
   "metadata": {},
   "outputs": [
    {
     "name": "stdout",
     "output_type": "stream",
     "text": [
      "Allocating B_matrix values...\n"
     ]
    }
   ],
   "source": [
    "print('Allocating B_matrix values...')\n",
    "\n",
    "# Create a dictionary to map oid values to their indices\n",
    "oid_to_index = {int(oid): idx for idx, oid in enumerate(B_matrix_str_sliced[:,3].astype(int))}\n",
    "\n",
    "exceptioncounter = 0\n",
    "for i in range(len(oids)):\n",
    "    oid = oids[i]\n",
    "    try:\n",
    "        idx = oid_to_index[oid]\n",
    "        allocated_B_matrix[i,:] = B_matrix_weighted_array[idx,6:16]\n",
    "    except KeyError:\n",
    "        exceptioncounter += 1"
   ]
  },
  {
   "cell_type": "code",
   "execution_count": 9,
   "metadata": {},
   "outputs": [],
   "source": [
    "# exceptioncounter=0\n",
    "# for i in range(len(oids)):\n",
    "#     try:\n",
    "#         oid=oids[i]\n",
    "#         print(oid)\n",
    "#         idx=np.where(B_matrix_str_sliced[:,3].astype(int) == oid)\n",
    "#         allocated_B_matrix[i,:]=B_matrix_weighted_array[idx,6:16]\n",
    "#         print(idx)\n",
    "#     except:\n",
    "#         exceptioncounter+=1"
   ]
  },
  {
   "cell_type": "code",
   "execution_count": 10,
   "metadata": {},
   "outputs": [
    {
     "name": "stdout",
     "output_type": "stream",
     "text": [
      "Updating normalized values in udf_UPDATED_LODES...\n"
     ]
    }
   ],
   "source": [
    "print('Updating normalized values in udf_UPDATED_LODES...')\n",
    "\n",
    "udf_UPDATED_LODES = udf.copy()\n",
    "\n",
    "udf_UPDATED_LODES[\"S000_adjusted\"]=allocated_B_matrix[:,0]/np.max(allocated_B_matrix[:,0])\n",
    "udf_UPDATED_LODES[\"SA01_adjusted\"]=allocated_B_matrix[:,1]/np.max(allocated_B_matrix[:,1])\n",
    "udf_UPDATED_LODES[\"SA02_adjusted\"]=allocated_B_matrix[:,2]/np.max(allocated_B_matrix[:,2])\n",
    "udf_UPDATED_LODES[\"SA03_adjusted\"]=allocated_B_matrix[:,3]/np.max(allocated_B_matrix[:,3])\n",
    "udf_UPDATED_LODES[\"SE01_adjusted\"]=allocated_B_matrix[:,4]/np.max(allocated_B_matrix[:,4])\n",
    "udf_UPDATED_LODES[\"SE02_adjusted\"]=allocated_B_matrix[:,5]/np.max(allocated_B_matrix[:,5])\n",
    "udf_UPDATED_LODES[\"SE03_adjusted\"]=allocated_B_matrix[:,6]/np.max(allocated_B_matrix[:,6])\n",
    "udf_UPDATED_LODES[\"SI01_adjusted\"]=allocated_B_matrix[:,7]/np.max(allocated_B_matrix[:,7])\n",
    "udf_UPDATED_LODES[\"SI02_adjusted\"]=allocated_B_matrix[:,8]/np.max(allocated_B_matrix[:,8])\n",
    "udf_UPDATED_LODES[\"SI03_adjusted\"]=allocated_B_matrix[:,9]/np.max(allocated_B_matrix[:,9])"
   ]
  },
  {
   "cell_type": "code",
   "execution_count": 11,
   "metadata": {},
   "outputs": [],
   "source": [
    "udf_UPDATED_LODES.to_file(r\"ucla_large_centrality_roi_UPDATED_LODES_2021.geojson\", driver='GeoJSON')"
   ]
  },
  {
   "cell_type": "code",
   "execution_count": 25,
   "metadata": {},
   "outputs": [],
   "source": [
    "# count how many values in udf_UPDATED_LODES['S000_adjusted'] are 0\n",
    "\n",
    "S000_adjusted_zero_count = len(udf_UPDATED_LODES[udf_UPDATED_LODES['S000_adjusted']==0])\n",
    "S000_no_usage_percent = (S000_adjusted_zero_count / len(udf_UPDATED_LODES['S000_adjusted']))*100\n",
    "\n",
    "SA01_adjusted_zero_count = len(udf_UPDATED_LODES[udf_UPDATED_LODES['SA01_adjusted']==0])\n",
    "SA01_no_usage_percent = (SA01_adjusted_zero_count / len(udf_UPDATED_LODES['SA01_adjusted']))*100\n",
    "\n",
    "SA02_adjusted_zero_count = len(udf_UPDATED_LODES[udf_UPDATED_LODES['SA02_adjusted']==0])\n",
    "SA02_no_usage_percent = (SA02_adjusted_zero_count / len(udf_UPDATED_LODES['SA02_adjusted']))*100\n",
    "\n",
    "SA03_adjusted_zero_count = len(udf_UPDATED_LODES[udf_UPDATED_LODES['SA03_adjusted']==0])\n",
    "SA03_no_usage_percent = (SA03_adjusted_zero_count / len(udf_UPDATED_LODES['SA03_adjusted']))*100\n",
    "\n",
    "SE01_adjusted_zero_count = len(udf_UPDATED_LODES[udf_UPDATED_LODES['SE01_adjusted']==0])\n",
    "SE01_no_usage_percent = (SE01_adjusted_zero_count / len(udf_UPDATED_LODES['SE01_adjusted']))*100\n",
    "\n",
    "SE02_adjusted_zero_count = len(udf_UPDATED_LODES[udf_UPDATED_LODES['SE02_adjusted']==0])\n",
    "SE02_no_usage_percent = (SE02_adjusted_zero_count / len(udf_UPDATED_LODES['SE02_adjusted']))*100\n",
    "\n",
    "SE03_adjusted_zero_count = len(udf_UPDATED_LODES[udf_UPDATED_LODES['SE03_adjusted']==0])\n",
    "SE03_no_usage_percent = (SE03_adjusted_zero_count / len(udf_UPDATED_LODES['SE03_adjusted']))*100\n",
    "\n",
    "SI01_adjusted_zero_count = len(udf_UPDATED_LODES[udf_UPDATED_LODES['SI01_adjusted']==0])\n",
    "SI01_no_usage_percent = (SI01_adjusted_zero_count / len(udf_UPDATED_LODES['SI01_adjusted']))*100\n",
    "\n",
    "SI02_adjusted_zero_count = len(udf_UPDATED_LODES[udf_UPDATED_LODES['SI02_adjusted']==0])\n",
    "SI02_no_usage_percent = (SI02_adjusted_zero_count / len(udf_UPDATED_LODES['SI02_adjusted']))*100\n",
    "\n",
    "SI03_adjusted_zero_count = len(udf_UPDATED_LODES[udf_UPDATED_LODES['SI03_adjusted']==0])\n",
    "SI03_no_usage_percent = (SI03_adjusted_zero_count / len(udf_UPDATED_LODES['SI03_adjusted']))*100"
   ]
  },
  {
   "cell_type": "code",
   "execution_count": 27,
   "metadata": {},
   "outputs": [
    {
     "name": "stdout",
     "output_type": "stream",
     "text": [
      "Percent of S000_adjusted == 0:  6.42 %\n",
      "Percent of SA01_adjusted == 0:  10.64 %\n",
      "Percent of SA02_adjusted == 0:  7.33 %\n",
      "Percent of SA03_adjusted == 0:  8.51 %\n",
      "Percent of SE01_adjusted == 0:  9.91 %\n",
      "Percent of SE02_adjusted == 0:  8.38 %\n",
      "Percent of SE03_adjusted == 0:  8.23 %\n",
      "Percent of SI01_adjusted == 0:  15.92 %\n",
      "Percent of SI02_adjusted == 0:  12.43 %\n",
      "Percent of SI03_adjusted == 0:  7.25 %\n"
     ]
    }
   ],
   "source": [
    "print('Percent of S000_adjusted == 0: ', round(S000_no_usage_percent, 2), '%')\n",
    "print('Percent of SA01_adjusted == 0: ', round(SA01_no_usage_percent, 2), '%')\n",
    "print('Percent of SA02_adjusted == 0: ', round(SA02_no_usage_percent, 2), '%')\n",
    "print('Percent of SA03_adjusted == 0: ', round(SA03_no_usage_percent, 2), '%')\n",
    "print('Percent of SE01_adjusted == 0: ', round(SE01_no_usage_percent, 2), '%')\n",
    "print('Percent of SE02_adjusted == 0: ', round(SE02_no_usage_percent, 2), '%')\n",
    "print('Percent of SE03_adjusted == 0: ', round(SE03_no_usage_percent, 2), '%')\n",
    "print('Percent of SI01_adjusted == 0: ', round(SI01_no_usage_percent, 2), '%')\n",
    "print('Percent of SI02_adjusted == 0: ', round(SI02_no_usage_percent, 2), '%')\n",
    "print('Percent of SI03_adjusted == 0: ', round(SI03_no_usage_percent, 2), '%')"
   ]
  }
 ],
 "metadata": {
  "kernelspec": {
   "display_name": "base",
   "language": "python",
   "name": "python3"
  },
  "language_info": {
   "codemirror_mode": {
    "name": "ipython",
    "version": 3
   },
   "file_extension": ".py",
   "mimetype": "text/x-python",
   "name": "python",
   "nbconvert_exporter": "python",
   "pygments_lexer": "ipython3",
   "version": "3.9.7"
  }
 },
 "nbformat": 4,
 "nbformat_minor": 2
}
