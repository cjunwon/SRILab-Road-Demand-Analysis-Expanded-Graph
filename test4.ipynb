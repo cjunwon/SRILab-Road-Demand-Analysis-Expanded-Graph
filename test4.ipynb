{
 "cells": [
  {
   "cell_type": "code",
   "execution_count": 1,
   "metadata": {},
   "outputs": [],
   "source": [
    "import numpy as np\n",
    "import pandas as pd\n",
    "import time\n",
    "from collections import defaultdict\n",
    "import igraph as ig\n",
    "import pickle\n",
    "from itertools import islice"
   ]
  },
  {
   "cell_type": "code",
   "execution_count": 2,
   "metadata": {},
   "outputs": [
    {
     "name": "stdout",
     "output_type": "stream",
     "text": [
      "Importing intermediate_files/Node_to_Node_pairs.pickle...\n"
     ]
    }
   ],
   "source": [
    "print(\"Importing intermediate_files/Node_to_Node_pairs.pickle...\")\n",
    "with open(r'intermediate_files/Node_to_Node_pairs.pickle', 'rb') as handle:\n",
    "    Node_to_Node_pairs = pickle.load(handle)"
   ]
  },
  {
   "cell_type": "code",
   "execution_count": 3,
   "metadata": {},
   "outputs": [
    {
     "name": "stdout",
     "output_type": "stream",
     "text": [
      "Creating Node_to_Node_pairs_dict...\n"
     ]
    }
   ],
   "source": [
    "print(\"Creating Node_to_Node_pairs_dict...\")\n",
    "Node_to_Node_pairs_dict = defaultdict(list)\n",
    "\n",
    "for key, value in Node_to_Node_pairs:\n",
    "    Node_to_Node_pairs_dict[key].append(value)"
   ]
  },
  {
   "cell_type": "code",
   "execution_count": 4,
   "metadata": {},
   "outputs": [
    {
     "data": {
      "text/plain": [
       "156244"
      ]
     },
     "execution_count": 4,
     "metadata": {},
     "output_type": "execute_result"
    }
   ],
   "source": [
    "len(Node_to_Node_pairs_dict)"
   ]
  }
 ],
 "metadata": {
  "kernelspec": {
   "display_name": "env",
   "language": "python",
   "name": "python3"
  },
  "language_info": {
   "codemirror_mode": {
    "name": "ipython",
    "version": 3
   },
   "file_extension": ".py",
   "mimetype": "text/x-python",
   "name": "python",
   "nbconvert_exporter": "python",
   "pygments_lexer": "ipython3",
   "version": "3.12.4"
  }
 },
 "nbformat": 4,
 "nbformat_minor": 2
}
