{
 "cells": [
  {
   "cell_type": "code",
   "execution_count": 1,
   "metadata": {},
   "outputs": [],
   "source": [
    "import pickle\n",
    "import numpy as np\n",
    "import pandas as pd\n",
    "import pickle\n",
    "from itertools import product\n"
   ]
  },
  {
   "cell_type": "code",
   "execution_count": 2,
   "metadata": {},
   "outputs": [
    {
     "name": "stdout",
     "output_type": "stream",
     "text": [
      "Importing files...\n"
     ]
    }
   ],
   "source": [
    "print(\"Importing files...\")\n",
    "with open(r'intermediate_files/Node_Block.pkl', 'rb') as f:\n",
    "    Node_Block = pickle.load(f)"
   ]
  },
  {
   "cell_type": "code",
   "execution_count": 3,
   "metadata": {},
   "outputs": [
    {
     "data": {
      "text/plain": [
       "0         060378002022001\n",
       "1         060378002022007\n",
       "2         060378001041062\n",
       "3         060378002061016\n",
       "4         060378002022000\n",
       "               ...       \n",
       "199499    060371132351004\n",
       "199500    060371132351000\n",
       "199501    060371132351002\n",
       "199502    060371132351006\n",
       "199503    060371132351006\n",
       "Name: BlockNumber, Length: 199504, dtype: object"
      ]
     },
     "execution_count": 3,
     "metadata": {},
     "output_type": "execute_result"
    }
   ],
   "source": [
    "Node_Block['BlockNumber']"
   ]
  },
  {
   "cell_type": "code",
   "execution_count": 5,
   "metadata": {},
   "outputs": [],
   "source": [
    "Origin_Destination = pd.read_csv('lodes_od_data/ca_od_main_JT00_2021.csv')"
   ]
  },
  {
   "cell_type": "code",
   "execution_count": 6,
   "metadata": {},
   "outputs": [
    {
     "name": "stdout",
     "output_type": "stream",
     "text": [
      "Number of unique nodes:  199504\n",
      "Initializing dictionary...\n"
     ]
    }
   ],
   "source": [
    "print(\"Number of unique nodes: \", len(Node_Block['Node'].unique()))\n",
    "\n",
    "Initial_Origin_Destination_Count = len(Origin_Destination)\n",
    "\n",
    "# Create dictionary for block and node pairings (identified from BlockDetermination.ipynb)\n",
    "print(\"Initializing dictionary...\")\n",
    "block_node_dict = {}"
   ]
  },
  {
   "cell_type": "code",
   "execution_count": 9,
   "metadata": {},
   "outputs": [
    {
     "name": "stdout",
     "output_type": "stream",
     "text": [
      "Mapping blocks to nodes...\n"
     ]
    }
   ],
   "source": [
    "print(\"Mapping blocks to nodes...\")\n",
    "for _, row in Node_Block.iterrows():\n",
    "    node_id = row['Node']\n",
    "    block_id = row['BlockNumber']\n",
    "    # block_coord = row['BlockBoundary']\n",
    "    if int(block_id) not in block_node_dict:\n",
    "        block_node_dict[int(block_id)] = []\n",
    "    block_node_dict[int(block_id)].append(node_id)"
   ]
  },
  {
   "cell_type": "code",
   "execution_count": 8,
   "metadata": {},
   "outputs": [],
   "source": [
    "Origin_Destination_Node_Added = Origin_Destination.copy()\n",
    "Origin_Destination_Node_Added = Origin_Destination_Node_Added.drop(columns=['createdate'])"
   ]
  },
  {
   "cell_type": "code",
   "execution_count": null,
   "metadata": {},
   "outputs": [],
   "source": []
  }
 ],
 "metadata": {
  "kernelspec": {
   "display_name": "env",
   "language": "python",
   "name": "python3"
  },
  "language_info": {
   "codemirror_mode": {
    "name": "ipython",
    "version": 3
   },
   "file_extension": ".py",
   "mimetype": "text/x-python",
   "name": "python",
   "nbconvert_exporter": "python",
   "pygments_lexer": "ipython3",
   "version": "3.12.4"
  }
 },
 "nbformat": 4,
 "nbformat_minor": 2
}
