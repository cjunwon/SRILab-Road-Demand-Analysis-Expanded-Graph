{
 "cells": [
  {
   "cell_type": "code",
   "execution_count": 1,
   "metadata": {},
   "outputs": [],
   "source": [
    "import pickle\n",
    "import numpy as np\n",
    "import networkx as nx\n",
    "import pandas as pd\n",
    "import time\n",
    "from collections import defaultdict\n",
    "import random\n",
    "import multiprocessing\n",
    "\n",
    "import igraph as ig"
   ]
  },
  {
   "cell_type": "code",
   "execution_count": 2,
   "metadata": {},
   "outputs": [
    {
     "name": "stdout",
     "output_type": "stream",
     "text": [
      "Importing nodes_edges_ucla_big_graph.pickle...\n"
     ]
    }
   ],
   "source": [
    "print(\"Importing nodes_edges_ucla_big_graph.pickle...\")\n",
    "with open(r'nodes_edges_ucla_big_graph.pickle', 'rb') as handle:\n",
    "    B_matrix_sliced,B_matrix_str_sliced,nodes_coordinates_array = pickle.load(handle)"
   ]
  },
  {
   "cell_type": "code",
   "execution_count": 3,
   "metadata": {},
   "outputs": [
    {
     "name": "stdout",
     "output_type": "stream",
     "text": [
      "Importing intermediate_files/Node_to_Node_pairs.pickle...\n"
     ]
    }
   ],
   "source": [
    "print(\"Importing intermediate_files/Node_to_Node_pairs.pickle...\")\n",
    "\n",
    "with open(r'intermediate_files/Node_to_Node_pairs.pickle', 'rb') as handle:\n",
    "    Node_to_Node_pairs = pickle.load(handle)"
   ]
  },
  {
   "cell_type": "code",
   "execution_count": 4,
   "metadata": {},
   "outputs": [],
   "source": [
    "# convert all values in B_matrix_sliced from float to int\n",
    "B_matrix_sliced = B_matrix_sliced.astype(int)"
   ]
  },
  {
   "cell_type": "code",
   "execution_count": 5,
   "metadata": {},
   "outputs": [
    {
     "name": "stdout",
     "output_type": "stream",
     "text": [
      "Creating graph using B_matrix_sliced...\n",
      "Time taken to create graph: 0.013975648085276286 minutes\n"
     ]
    }
   ],
   "source": [
    "print(\"Creating graph using B_matrix_sliced...\")\n",
    "time_start = time.time()\n",
    "\n",
    "g = ig.Graph(directed=True)\n",
    "g.add_vertices(np.max(B_matrix_sliced[:, :2]) + 1)  # assuming nodes are labeled 0 to n-1\n",
    "edges = [(int(B_matrix_sliced[i, 0]), int(B_matrix_sliced[i, 1])) for i in range(len(B_matrix_sliced))]\n",
    "g.add_edges(edges)\n",
    "g.es['weight'] = B_matrix_sliced[:, 4]\n",
    "\n",
    "time_end = time.time()\n",
    "print(\"Time taken to create graph:\", (time_end - time_start) / 60, \"minutes\")"
   ]
  },
  {
   "cell_type": "code",
   "execution_count": 6,
   "metadata": {},
   "outputs": [],
   "source": [
    "del B_matrix_sliced, B_matrix_str_sliced, nodes_coordinates_array"
   ]
  },
  {
   "cell_type": "code",
   "execution_count": 7,
   "metadata": {},
   "outputs": [
    {
     "name": "stdout",
     "output_type": "stream",
     "text": [
      "Creating Node_to_Node_pairs_dict...\n"
     ]
    }
   ],
   "source": [
    "print(\"Creating Node_to_Node_pairs_dict...\")\n",
    "Node_to_Node_pairs_dict = defaultdict(list)\n",
    "\n",
    "for key, value in Node_to_Node_pairs:\n",
    "    Node_to_Node_pairs_dict[key].append(value)"
   ]
  },
  {
   "cell_type": "code",
   "execution_count": 11,
   "metadata": {},
   "outputs": [],
   "source": [
    "Node_to_Node_pairs_len = len(Node_to_Node_pairs)\n",
    "del Node_to_Node_pairs"
   ]
  },
  {
   "cell_type": "code",
   "execution_count": 8,
   "metadata": {},
   "outputs": [
    {
     "name": "stdout",
     "output_type": "stream",
     "text": [
      "Subsetting origin_nodes_list...\n"
     ]
    }
   ],
   "source": [
    "print(\"Subsetting origin_nodes_list...\")\n",
    "origin_nodes_list = list(Node_to_Node_pairs_dict.keys())\n",
    "\n",
    "random.seed(123)\n",
    "origin_nodes_list_subset = random.sample(origin_nodes_list, 50)"
   ]
  },
  {
   "cell_type": "code",
   "execution_count": 9,
   "metadata": {},
   "outputs": [
    {
     "name": "stdout",
     "output_type": "stream",
     "text": [
      "Creating Node_to_Node_pairs_dict_subset...\n"
     ]
    }
   ],
   "source": [
    "print(\"Creating Node_to_Node_pairs_dict_subset...\")\n",
    "Node_to_Node_pairs_dict_subset = {k: v for k, v in Node_to_Node_pairs_dict.items() if k in origin_nodes_list_subset}"
   ]
  },
  {
   "cell_type": "code",
   "execution_count": 10,
   "metadata": {},
   "outputs": [],
   "source": [
    "# count the total number of pairs in Node_to_Node_pairs_dict_subset from keys and values\n",
    "\n",
    "total_subset_pairs = 0\n",
    "\n",
    "for key, value in Node_to_Node_pairs_dict_subset.items():\n",
    "    total_subset_pairs += len(value)"
   ]
  },
  {
   "cell_type": "code",
   "execution_count": 15,
   "metadata": {},
   "outputs": [
    {
     "name": "stdout",
     "output_type": "stream",
     "text": [
      "Using single source dijkstra algorithm in igraph to find shortest paths for  65745 pairs...\n"
     ]
    },
    {
     "name": "stderr",
     "output_type": "stream",
     "text": [
      "/var/folders/6m/88dwrhnx7m3cybxwl1p0rtq40000gn/T/ipykernel_35584/3395885929.py:8: RuntimeWarning: Couldn't reach some vertices. at src/paths/dijkstra.c:534\n",
      "  shortest_paths = g.get_shortest_paths(origin, to=destinations, weights='weight', output=\"vpath\", algorithm=\"dijkstra\")\n"
     ]
    },
    {
     "name": "stdout",
     "output_type": "stream",
     "text": [
      "Time taken for Single Source Method:  0.0730845014254252 minutes\n",
      "Estimated time for all pairs:  1.6454619679814153 hours\n"
     ]
    }
   ],
   "source": [
    "print(\"Using single source dijkstra algorithm in igraph to find shortest paths for \", total_subset_pairs, \"pairs...\")\n",
    "\n",
    "time_start = time.time()\n",
    "\n",
    "shortest_path_results = {}\n",
    "\n",
    "for origin, destinations in Node_to_Node_pairs_dict_subset.items():\n",
    "    shortest_paths = g.get_shortest_paths(origin, to=destinations, weights='weight', output=\"vpath\", algorithm=\"dijkstra\")\n",
    "    to_destination_dict = {}\n",
    "    for destination, path in zip(destinations, shortest_paths):\n",
    "        to_destination_dict[destination] = path\n",
    "\n",
    "    shortest_path_results[origin] = to_destination_dict\n",
    "\n",
    "time_end = time.time()\n",
    "\n",
    "print(\"Time taken for Single Source Method: \", (time_end - time_start)/60, \"minutes\")\n",
    "print(\"Estimated time for all pairs: \", (time_end - time_start)/60 * Node_to_Node_pairs_len/total_subset_pairs / 60, \"hours\")"
   ]
  },
  {
   "cell_type": "code",
   "execution_count": 14,
   "metadata": {},
   "outputs": [
    {
     "name": "stdout",
     "output_type": "stream",
     "text": [
      "Converting shortest_path_results to tuple keys...\n",
      "Time taken to convert shortest_path_results to tuple keys:  0.05028700828552246 seconds\n"
     ]
    }
   ],
   "source": [
    "print(\"Converting shortest_path_results to tuple keys...\")\n",
    "\n",
    "time_start = time.time()\n",
    "\n",
    "shortest_path_tuple_keys = {(origin, destination): path \n",
    "                            for origin, destinations in shortest_path_results.items() \n",
    "                            for destination, path in destinations.items()}\n",
    "\n",
    "time_end = time.time()\n",
    "\n",
    "print(\"Time taken to convert shortest_path_results to tuple keys: \", (time_end - time_start), \"seconds\")"
   ]
  },
  {
   "cell_type": "code",
   "execution_count": 17,
   "metadata": {},
   "outputs": [
    {
     "name": "stdout",
     "output_type": "stream",
     "text": [
      "Number of empty paths:  55226\n",
      "Percentage of empty paths:  84.00030420564302 %\n"
     ]
    }
   ],
   "source": [
    "# count the number of values that are empty lists\n",
    "\n",
    "empty_paths = 0\n",
    "\n",
    "for key, value in shortest_path_tuple_keys.items():\n",
    "    if len(value) == 0:\n",
    "        empty_paths += 1\n",
    "\n",
    "print(\"Number of empty paths: \", empty_paths)\n",
    "print(\"Percentage of empty paths: \", empty_paths/total_subset_pairs * 100, \"%\")"
   ]
  }
 ],
 "metadata": {
  "kernelspec": {
   "display_name": "base",
   "language": "python",
   "name": "python3"
  },
  "language_info": {
   "codemirror_mode": {
    "name": "ipython",
    "version": 3
   },
   "file_extension": ".py",
   "mimetype": "text/x-python",
   "name": "python",
   "nbconvert_exporter": "python",
   "pygments_lexer": "ipython3",
   "version": "3.9.7"
  }
 },
 "nbformat": 4,
 "nbformat_minor": 2
}
