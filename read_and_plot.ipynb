{
 "cells": [
  {
   "cell_type": "code",
   "execution_count": 1,
   "metadata": {},
   "outputs": [],
   "source": [
    "import pickle\n",
    "import numpy as np\n",
    "import matplotlib.pyplot as plt\n",
    "import networkx as nx\n",
    "import geopandas as gpd\n",
    "\n",
    "from shapely.geometry import Point, Polygon, LineString,MultiLineString"
   ]
  },
  {
   "cell_type": "code",
   "execution_count": 2,
   "metadata": {},
   "outputs": [],
   "source": [
    "with open(r'nodes_edges_ucla_big_graph.pickle', 'rb') as handle:\n",
    "    B_matrix_sliced,B_matrix_str_sliced,nodes_coordinates_array = pickle.load(handle)"
   ]
  },
  {
   "cell_type": "code",
   "execution_count": 3,
   "metadata": {},
   "outputs": [],
   "source": [
    "udf=gpd.read_file(r\"ucla_large_centrality_roi.geojson\")\n",
    "\n",
    "blocks=gpd.read_file(r\"blocks_epsg4326.geojson\")"
   ]
  },
  {
   "cell_type": "code",
   "execution_count": 4,
   "metadata": {},
   "outputs": [
    {
     "data": {
      "image/png": "[encoded data removed]",
      "text/plain": [
       "<Figure size 432x288 with 1 Axes>"
      ]
     },
     "metadata": {},
     "output_type": "display_data"
    }
   ],
   "source": [
    "# G=nx.DiGraph()\n",
    "\n",
    "# for i in range(len(B_matrix_sliced)):\n",
    "#     oneway=B_matrix_str_sliced[i,2]\n",
    "    \n",
    "#     if oneway==None:        \n",
    "#         G.add_edge(int(B_matrix_sliced[i,0]),int(B_matrix_sliced[i,1]),sect_id=str(B_matrix_str_sliced[i,3]),distance=int(B_matrix_sliced[i,2]),speed=int(B_matrix_sliced[i,3]),weight=B_matrix_sliced[i,4],walk_min=B_matrix_sliced[i,5],name=str(B_matrix_str_sliced[i,0]),roadtype=str(B_matrix_str_sliced[i,1]))\n",
    "#         G.add_edge(int(B_matrix_sliced[i,1]),int(B_matrix_sliced[i,0]),sect_id=str(B_matrix_str_sliced[i,3]),distance=int(B_matrix_sliced[i,2]),speed=int(B_matrix_sliced[i,3]),weight=B_matrix_sliced[i,4],walk_min=B_matrix_sliced[i,5],name=str(B_matrix_str_sliced[i,0]),roadtype=str(B_matrix_str_sliced[i,1]))\n",
    "#     elif oneway==\"FT\":        \n",
    "#         G.add_edge(int(B_matrix_sliced[i,0]),int(B_matrix_sliced[i,1]),sect_id=str(B_matrix_str_sliced[i,3]),distance=int(B_matrix_sliced[i,2]),speed=int(B_matrix_sliced[i,3]),weight=B_matrix_sliced[i,4],walk_min=B_matrix_sliced[i,5],name=str(B_matrix_str_sliced[i,0]),roadtype=str(B_matrix_str_sliced[i,1]))\n",
    "#     elif oneway==\"TF\":        \n",
    "#         G.add_edge(int(B_matrix_sliced[i,1]),int(B_matrix_sliced[i,0]),sect_id=str(B_matrix_str_sliced[i,3]),distance=int(B_matrix_sliced[i,2]),speed=int(B_matrix_sliced[i,3]),weight=B_matrix_sliced[i,4],walk_min=B_matrix_sliced[i,5],name=str(B_matrix_str_sliced[i,0]),roadtype=str(B_matrix_str_sliced[i,1]))\n",
    "#     else:\n",
    "#         print(\"Error\")\n",
    "\n",
    "\n",
    "\n",
    "# fig,ax=plt.subplots(1)\n",
    "# blocks.plot(ax=ax,color=\"green\",alpha=0.3)\n",
    "# udf.plot(ax=ax,color=\"gray\",linestyle=\"--\")\n",
    "# nx.draw(G.to_undirected(),pos=nodes_coordinates_array[:,0:2],node_size=1,node_color=\"blue\", with_labels = False)"
   ]
  },
  {
   "cell_type": "code",
   "execution_count": 8,
   "metadata": {},
   "outputs": [
    {
     "data": {
      "text/plain": [
       "(238422, 98)"
      ]
     },
     "execution_count": 8,
     "metadata": {},
     "output_type": "execute_result"
    }
   ],
   "source": [
    "udf.shape"
   ]
  },
  {
   "cell_type": "code",
   "execution_count": 9,
   "metadata": {},
   "outputs": [
    {
     "data": {
      "text/plain": [
       "(91626, 16)"
      ]
     },
     "execution_count": 9,
     "metadata": {},
     "output_type": "execute_result"
    }
   ],
   "source": [
    "blocks.shape"
   ]
  },
  {
   "cell_type": "markdown",
   "metadata": {},
   "source": [
    "# 01 Block Determination"
   ]
  },
  {
   "cell_type": "code",
   "execution_count": null,
   "metadata": {},
   "outputs": [],
   "source": [
    "import geopandas as gpd\n",
    "import pandas as pd\n",
    "import numpy as np\n",
    "import pickle\n",
    "from shapely import Point\n",
    "from shapely.ops import nearest_points\n",
    "from rtree import index\n",
    "\n",
    "# Import and subset block data\n",
    "blocknumbers = np.array(blocks[\"GEOID20\"],dtype=str)\n",
    "blockboundaries = np.array(blocks[\"geometry\"])\n",
    "\n",
    "Hillside_NodeCoordinate = nodes_coordinates_array[:,0:2]\n",
    "\n",
    "# Check if blockboundaries and blocknumbers are the same length\n",
    "if len(blockboundaries) != len(blocknumbers):\n",
    "    print(\"Error: Length of blockboundaries and blocknumbers do not match\")\n",
    "\n",
    "# Create an R-tree index\n",
    "idx = index.Index()\n",
    "for i, boundary in enumerate(blockboundaries):\n",
    "    idx.insert(i, boundary.bounds)\n",
    "\n",
    "# Initialize empty lists to store node and block information\n",
    "Node_Block = []\n",
    "Unidentified_Nodes = []\n",
    "\n",
    "# Identify nodes that are in a block using R-tree\n",
    "for i in range(len(Hillside_NodeCoordinate)):\n",
    "    coord = Hillside_NodeCoordinate[i]\n",
    "    possible_blocks = list(idx.intersection((coord[0], coord[1], coord[0], coord[1])))\n",
    "    for block_idx in possible_blocks:\n",
    "        if blockboundaries[block_idx].contains(Point(coord[0], coord[1])):\n",
    "            Node_Block.append([i, blocknumbers[block_idx], blockboundaries[block_idx]])\n",
    "\n",
    "Identified_Nodes = np.array([row[0] for row in Node_Block])\n",
    "total_nodes_identified = len(Node_Block)\n",
    "total_nodes_out_of_bounds = len(Hillside_NodeCoordinate) - total_nodes_identified\n",
    "extracted_blocknumbers = np.array([item[1] for item in Node_Block])\n",
    "unique_blocknumbers = np.unique(extracted_blocknumbers)\n",
    "unique_blocknumbers_count = len(unique_blocknumbers)\n",
    "\n",
    "print(\"Total nodes identified: \" + str(total_nodes_identified), \"\\nNodes out of bounds: \" + str(total_nodes_out_of_bounds), \"\\nUnique blocknumbers: \" + str(unique_blocknumbers_count))\n",
    "\n",
    "# Make a list with the first element in Node_Block\n",
    "Identified_Nodes_Index = [item[0] for item in Node_Block]\n",
    "\n",
    "# Identify nodes that are not in any block\n",
    "for i in range(len(Hillside_NodeCoordinate)):\n",
    "    if i not in Identified_Nodes:\n",
    "        Unidentified_Nodes.append(i)\n",
    "\n",
    "print('Nodes without block placement: ' + str(Unidentified_Nodes))\n",
    "\n",
    "# Identify the closest block for each node that is not in any block\n",
    "for i in Unidentified_Nodes:\n",
    "    closest_block = min(blockboundaries, key=lambda x: x.distance(Point(Hillside_NodeCoordinate[i][0], Hillside_NodeCoordinate[i][1])))\n",
    "    closest_block_idx = np.where(blockboundaries == closest_block)\n",
    "    closest_block_number = blocknumbers[closest_block_idx]\n",
    "    print('Node coordinate ' + str(i) + ' with coordinates ' + str(Hillside_NodeCoordinate[i]) + ' is closest to block ' + str(closest_block_number))\n",
    "    Node_Block.insert(i, [i, closest_block_number, closest_block])\n",
    "\n",
    "# Check if all nodes have been identified\n",
    "total_nodes_identified = len(Node_Block)\n",
    "\n",
    "print(\"Total nodes identified: \" + str(total_nodes_identified))\n",
    "\n",
    "# Save Node_Block as a pickle file\n",
    "with open(r'intermediate_files/Node_Block.pkl', 'wb') as f:\n",
    "    pickle.dump(Node_Block, f)"
   ]
  },
  {
   "cell_type": "code",
   "execution_count": 22,
   "metadata": {},
   "outputs": [
    {
     "name": "stderr",
     "output_type": "stream",
     "text": [
      "Filtering nodes: 100%|██████████| 180087/180087 [27:35<00:00, 108.78it/s] \n",
      "Identifying closest blocks: 100%|██████████| 67/67 [06:30<00:00,  5.82s/it]\n"
     ]
    },
    {
     "name": "stdout",
     "output_type": "stream",
     "text": [
      "Total nodes identified: 180087\n"
     ]
    }
   ],
   "source": [
    "import geopandas as gpd\n",
    "import pandas as pd\n",
    "import numpy as np\n",
    "import pickle\n",
    "from shapely import Point\n",
    "from shapely.ops import nearest_points\n",
    "from rtree import index\n",
    "from tqdm import tqdm\n",
    "\n",
    "# Import and subset block data\n",
    "blocknumbers = np.array(blocks[\"GEOID20\"],dtype=str)\n",
    "blockboundaries = np.array(blocks[\"geometry\"])\n",
    "\n",
    "Hillside_NodeCoordinate = nodes_coordinates_array[:,0:2]\n",
    "\n",
    "# Create a dictionary mapping block boundaries to their indices\n",
    "block_to_index = {boundary: i for i, boundary in enumerate(blockboundaries)}\n",
    "\n",
    "# Use a set to keep track of identified nodes\n",
    "identified_nodes = set()\n",
    "\n",
    "# Use a DataFrame for Node_Block\n",
    "Node_Block = pd.DataFrame(columns=['Node', 'BlockNumber', 'BlockBoundary'])\n",
    "\n",
    "# Create an R-tree index\n",
    "idx = index.Index()\n",
    "for i, boundary in enumerate(blockboundaries):\n",
    "    idx.insert(i, boundary.bounds)\n",
    "\n",
    "# Identify nodes that are in a block using R-tree\n",
    "for i in tqdm(range(len(Hillside_NodeCoordinate)), desc=\"Filtering nodes\"):\n",
    "    coord = Hillside_NodeCoordinate[i]\n",
    "    possible_blocks_indices = list(idx.intersection((coord[0], coord[1], coord[0], coord[1])))\n",
    "    for block_index in possible_blocks_indices:\n",
    "        block = blockboundaries[block_index]\n",
    "        if block.contains(Point(coord[0], coord[1])):\n",
    "            new_row = pd.DataFrame({'Node': [i], 'BlockNumber': [blocknumbers[block_index]], 'BlockBoundary': [block]})\n",
    "            Node_Block = pd.concat([Node_Block, new_row], ignore_index=True)\n",
    "            identified_nodes.add(i)\n",
    "\n",
    "# Identify nodes that are not in any block\n",
    "unidentified_nodes = set(range(len(Hillside_NodeCoordinate))) - identified_nodes\n",
    "\n",
    "# Identify the closest block for each node that is not in any block\n",
    "for i in tqdm(unidentified_nodes, desc=\"Identifying closest blocks\"):\n",
    "    closest_block = min(blockboundaries, key=lambda x: x.distance(Point(Hillside_NodeCoordinate[i][0], Hillside_NodeCoordinate[i][1])))\n",
    "    new_row = pd.DataFrame({'Node': [i], 'BlockNumber': [blocknumbers[block_to_index[closest_block]]], 'BlockBoundary': [closest_block]})\n",
    "    Node_Block = pd.concat([Node_Block, new_row], ignore_index=True)\n",
    "\n",
    "# Total nodes identified\n",
    "total_nodes_identified = len(Node_Block)\n",
    "print(\"Total nodes identified: \" + str(total_nodes_identified))\n",
    "\n",
    "# Save Node_Block as a pickle file\n",
    "with open(r'intermediate_files/Node_Block.pkl', 'wb') as f:\n",
    "    pickle.dump(Node_Block, f)\n"
   ]
  },
  {
   "cell_type": "code",
   "execution_count": 23,
   "metadata": {},
   "outputs": [
    {
     "data": {
      "text/html": [
       "<div>\n",
       "<style scoped>\n",
       "    .dataframe tbody tr th:only-of-type {\n",
       "        vertical-align: middle;\n",
       "    }\n",
       "\n",
       "    .dataframe tbody tr th {\n",
       "        vertical-align: top;\n",
       "    }\n",
       "\n",
       "    .dataframe thead th {\n",
       "        text-align: right;\n",
       "    }\n",
       "</style>\n",
       "<table border=\"1\" class=\"dataframe\">\n",
       "  <thead>\n",
       "    <tr style=\"text-align: right;\">\n",
       "      <th></th>\n",
       "      <th>Node</th>\n",
       "      <th>BlockNumber</th>\n",
       "      <th>BlockBoundary</th>\n",
       "    </tr>\n",
       "  </thead>\n",
       "  <tbody>\n",
       "    <tr>\n",
       "      <th>0</th>\n",
       "      <td>0</td>\n",
       "      <td>060378002062007</td>\n",
       "      <td>MULTIPOLYGON (((-118.68372 34.164316, -118.683...</td>\n",
       "    </tr>\n",
       "    <tr>\n",
       "      <th>1</th>\n",
       "      <td>1</td>\n",
       "      <td>060379201061055</td>\n",
       "      <td>MULTIPOLYGON (((-118.681741 34.444332, -118.68...</td>\n",
       "    </tr>\n",
       "    <tr>\n",
       "      <th>2</th>\n",
       "      <td>2</td>\n",
       "      <td>060378005041027</td>\n",
       "      <td>MULTIPOLYGON (((-118.685613 34.036776, -118.68...</td>\n",
       "    </tr>\n",
       "    <tr>\n",
       "      <th>3</th>\n",
       "      <td>3</td>\n",
       "      <td>060378002021012</td>\n",
       "      <td>MULTIPOLYGON (((-118.68486 34.084816, -118.684...</td>\n",
       "    </tr>\n",
       "    <tr>\n",
       "      <th>4</th>\n",
       "      <td>4</td>\n",
       "      <td>060379201061079</td>\n",
       "      <td>MULTIPOLYGON (((-118.707669 34.436242, -118.70...</td>\n",
       "    </tr>\n",
       "    <tr>\n",
       "      <th>...</th>\n",
       "      <td>...</td>\n",
       "      <td>...</td>\n",
       "      <td>...</td>\n",
       "    </tr>\n",
       "    <tr>\n",
       "      <th>180082</th>\n",
       "      <td>162810</td>\n",
       "      <td>060371132351008</td>\n",
       "      <td>MULTIPOLYGON (((-118.645234 34.238084, -118.64...</td>\n",
       "    </tr>\n",
       "    <tr>\n",
       "      <th>180083</th>\n",
       "      <td>3196</td>\n",
       "      <td>060371132351004</td>\n",
       "      <td>MULTIPOLYGON (((-118.636906 34.2404, -118.6363...</td>\n",
       "    </tr>\n",
       "    <tr>\n",
       "      <th>180084</th>\n",
       "      <td>162813</td>\n",
       "      <td>060371132351007</td>\n",
       "      <td>MULTIPOLYGON (((-118.643995 34.240384, -118.64...</td>\n",
       "    </tr>\n",
       "    <tr>\n",
       "      <th>180085</th>\n",
       "      <td>162814</td>\n",
       "      <td>060371132351007</td>\n",
       "      <td>MULTIPOLYGON (((-118.643995 34.240384, -118.64...</td>\n",
       "    </tr>\n",
       "    <tr>\n",
       "      <th>180086</th>\n",
       "      <td>162815</td>\n",
       "      <td>060371132351007</td>\n",
       "      <td>MULTIPOLYGON (((-118.643995 34.240384, -118.64...</td>\n",
       "    </tr>\n",
       "  </tbody>\n",
       "</table>\n",
       "<p>180087 rows × 3 columns</p>\n",
       "</div>"
      ],
      "text/plain": [
       "          Node      BlockNumber  \\\n",
       "0            0  060378002062007   \n",
       "1            1  060379201061055   \n",
       "2            2  060378005041027   \n",
       "3            3  060378002021012   \n",
       "4            4  060379201061079   \n",
       "...        ...              ...   \n",
       "180082  162810  060371132351008   \n",
       "180083    3196  060371132351004   \n",
       "180084  162813  060371132351007   \n",
       "180085  162814  060371132351007   \n",
       "180086  162815  060371132351007   \n",
       "\n",
       "                                            BlockBoundary  \n",
       "0       MULTIPOLYGON (((-118.68372 34.164316, -118.683...  \n",
       "1       MULTIPOLYGON (((-118.681741 34.444332, -118.68...  \n",
       "2       MULTIPOLYGON (((-118.685613 34.036776, -118.68...  \n",
       "3       MULTIPOLYGON (((-118.68486 34.084816, -118.684...  \n",
       "4       MULTIPOLYGON (((-118.707669 34.436242, -118.70...  \n",
       "...                                                   ...  \n",
       "180082  MULTIPOLYGON (((-118.645234 34.238084, -118.64...  \n",
       "180083  MULTIPOLYGON (((-118.636906 34.2404, -118.6363...  \n",
       "180084  MULTIPOLYGON (((-118.643995 34.240384, -118.64...  \n",
       "180085  MULTIPOLYGON (((-118.643995 34.240384, -118.64...  \n",
       "180086  MULTIPOLYGON (((-118.643995 34.240384, -118.64...  \n",
       "\n",
       "[180087 rows x 3 columns]"
      ]
     },
     "execution_count": 23,
     "metadata": {},
     "output_type": "execute_result"
    }
   ],
   "source": [
    "# import Node_Block.pkl\n",
    "\n",
    "with open(r'intermediate_files/Node_Block.pkl', 'rb') as f:\n",
    "    Node_Block = pickle.load(f)\n",
    "\n"
   ]
  }
 ],
 "metadata": {
  "kernelspec": {
   "display_name": "base",
   "language": "python",
   "name": "python3"
  },
  "language_info": {
   "codemirror_mode": {
    "name": "ipython",
    "version": 3
   },
   "file_extension": ".py",
   "mimetype": "text/x-python",
   "name": "python",
   "nbconvert_exporter": "python",
   "pygments_lexer": "ipython3",
   "version": "3.9.7"
  }
 },
 "nbformat": 4,
 "nbformat_minor": 2
}
